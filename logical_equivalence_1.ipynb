{
 "cells": [
  {
   "cell_type": "markdown",
   "id": "c06932e6",
   "metadata": {},
   "source": [
    "# Logical Equivalence Checker \n",
    "### Please write down your information here\n",
    "- Name : Alireza\n",
    "- Last Name : Ghanbari\n",
    "- Student ID : 4031257\n",
    "## Introduction\n",
    "\n",
    "In this notebook, you will build a **Logical Equivalence Checker** step by step. The program will:\n",
    "1. Identify the variables in a Boolean expression.\n",
    "2. Generate truth tables for the expressions.\n",
    "3. Compare outputs to determine logical equivalence.\n",
    "\n",
    "## Required Libraries\n",
    "\n",
    "You will need to use the following Python libraries:\n",
    "- `itertools`: To generate all possible truth assignments.\n",
    "- `re`: To extract variables from expressions.\n",
    "\n",
    "\n",
    "Please note that libraries are not loaded by default. You will need to import them at the top of each cell.\n",
    "Import these libraries where necessary as you implement the functions.\n",
    "\n",
    "---\n",
    "\n",
    "Follow the instructions in each section and complete the missing parts.\n",
    "You need to complete TODO sections\n"
   ]
  },
  {
   "cell_type": "code",
   "execution_count": 1,
   "id": "c91eec2a",
   "metadata": {},
   "outputs": [],
   "source": [
    "import re\n",
    "import itertools"
   ]
  },
  {
   "cell_type": "markdown",
   "id": "59bd8fec",
   "metadata": {},
   "source": [
    "## Step 1: Extract Variables from Expressions"
   ]
  },
  {
   "cell_type": "markdown",
   "id": "98506714",
   "metadata": {},
   "source": [
    "Write a function `get_variables(expr)` that extracts unique variable names from a Boolean expression."
   ]
  },
  {
   "cell_type": "code",
   "execution_count": 2,
   "id": "ff36bc81",
   "metadata": {},
   "outputs": [
    {
     "name": "stdout",
     "output_type": "stream",
     "text": [
      "['A', 'B', 'C']\n"
     ]
    }
   ],
   "source": [
    "# Step 1: Extract Variables and Sort them\n",
    "def get_variables(expr):\n",
    "    # TODO: Implement the function below\n",
    "    L = re.split(r' |&|\\(|\\)|\\|', expr)\n",
    "    L = [x for x in L if len(x) > 0]\n",
    "    L = list(set(L))\n",
    "    L.sort()\n",
    "    return L\n",
    "\n",
    "# Example Test , use this to test your function\n",
    "expr1 = \"A & (B | C)\"\n",
    "print(get_variables(expr1))  # Expected: ['A', 'B', 'C']"
   ]
  },
  {
   "cell_type": "markdown",
   "id": "4a6d3165",
   "metadata": {},
   "source": [
    "## Step 2: Generate a Truth Table"
   ]
  },
  {
   "cell_type": "markdown",
   "id": "159e198b",
   "metadata": {},
   "source": [
    "Write a function `generate_truth_table(expr, variables)` that creates a truth table for a Boolean expression."
   ]
  },
  {
   "cell_type": "code",
   "execution_count": 3,
   "id": "9f1474ed",
   "metadata": {},
   "outputs": [
    {
     "name": "stdout",
     "output_type": "stream",
     "text": [
      "[[False, False, False, False], [False, False, True, False], [False, True, False, False], [False, True, True, False], [True, False, False, False], [True, False, True, True], [True, True, False, True], [True, True, True, True]]\n"
     ]
    }
   ],
   "source": [
    "# Step 2: Generate Truth Table\n",
    "def evaluate_expression(expr, values):\n",
    "    for var, val in values.items():\n",
    "        expr = expr.replace(var, str(int(val)))\n",
    "    return eval(expr.replace('&', ' and ').replace('|', ' or ').replace('!', ' not '))\n",
    "\n",
    "def generate_truth_table(expr, variables):\n",
    "    # TODO: Implement the function below\n",
    "    P = itertools.product([False, True], repeat= len(variables))\n",
    "    L = []\n",
    "    for values in P:\n",
    "        V = list(values)\n",
    "        V.append(bool(evaluate_expression(expr, dict(zip(variables, V)))))\n",
    "        L.append(V)\n",
    "    return L\n",
    "\n",
    "# Example Test , use this to test your function\n",
    "expr1 = \"A & (B | C)\"\n",
    "variables = get_variables(expr1)\n",
    "print(generate_truth_table(expr1, variables))"
   ]
  },
  {
   "cell_type": "markdown",
   "id": "abdbe02c",
   "metadata": {},
   "source": [
    "## Step 3: Check Logical Equivalence"
   ]
  },
  {
   "cell_type": "markdown",
   "id": "9333081a",
   "metadata": {},
   "source": [
    "Write a function `check_logical_equivalence(expr1, expr2)` that compares two expressions for logical equivalence."
   ]
  },
  {
   "cell_type": "code",
   "execution_count": 6,
   "id": "ee7f439f",
   "metadata": {},
   "outputs": [
    {
     "name": "stdout",
     "output_type": "stream",
     "text": [
      "True\n"
     ]
    }
   ],
   "source": [
    "# Step 3: Check Logical Equivalence\n",
    "def check_logical_equivalence(expr1, expr2):\n",
    "    # TODO: Implement the function below\n",
    "    variables1 = get_variables(expr1)\n",
    "    variables2 = get_variables(expr2)\n",
    "    tt1 = generate_truth_table(expr1, variables1)\n",
    "    tt2 = generate_truth_table(expr2, variables2)\n",
    "    return variables1 == variables2 and tt1 == tt2\n",
    "\n",
    "# Example Test, use this to check your solution\n",
    "expr1 = \"A & (B | C)\"\n",
    "expr2 = \"(A & B) | (A & C)\"\n",
    "print(check_logical_equivalence(expr1, expr2))  # Expected: True"
   ]
  },
  {
   "cell_type": "markdown",
   "id": "a422d398",
   "metadata": {},
   "source": [
    "## Final Test: Run Your Function\n",
    "Use your own test to check if your function works correctly.\n",
    "The format of the test is as follows (please just enter the expression and nothing else):\n",
    "- expr1 = \"A & (B | C)\"\n",
    "- expr2 = \"(A & B) | (A & C)\"\n",
    "Please write your test here first and then run it:\n",
    "## TODO: Write your test here:\n",
    "//your test"
   ]
  },
  {
   "cell_type": "code",
   "execution_count": 7,
   "id": "e610cfbe",
   "metadata": {},
   "outputs": [
    {
     "name": "stdout",
     "output_type": "stream",
     "text": [
      "True\n"
     ]
    }
   ],
   "source": [
    "expr1 = input('Enter first expression: ')\n",
    "expr2 = input('Enter second expression: ')\n",
    "print(check_logical_equivalence(expr1, expr2))"
   ]
  }
 ],
 "metadata": {
  "kernelspec": {
   "display_name": "Python 3",
   "language": "python",
   "name": "python3"
  },
  "language_info": {
   "codemirror_mode": {
    "name": "ipython",
    "version": 3
   },
   "file_extension": ".py",
   "mimetype": "text/x-python",
   "name": "python",
   "nbconvert_exporter": "python",
   "pygments_lexer": "ipython3",
   "version": "3.13.2"
  }
 },
 "nbformat": 4,
 "nbformat_minor": 5
}
